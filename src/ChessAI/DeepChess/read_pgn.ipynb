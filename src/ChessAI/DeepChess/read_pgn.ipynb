{
 "cells": [
  {
   "cell_type": "code",
   "execution_count": 3,
   "id": "e383a6da",
   "metadata": {},
   "outputs": [],
   "source": [
    "import chess.pgn\n",
    "import io\n",
    "import os"
   ]
  },
  {
   "cell_type": "code",
   "execution_count": null,
   "id": "f2744fbb",
   "metadata": {},
   "outputs": [
    {
     "name": "stdout",
     "output_type": "stream",
     "text": [
      "\n",
      "7-Zip [64] 17.05 : Copyright (c) 1999-2021 Igor Pavlov : 2017-08-28\n",
      "p7zip Version 17.05 (locale=utf8,Utf16=on,HugeFiles=on,64 bits,8 CPUs LE)\n",
      "\n",
      "Scanning the drive for archives:\n",
      "  0M Scan ../../data                    1 file, 14343506 bytes (14 MiB)\n",
      "\n",
      "Extracting archive: ../../data/CCRL-Chess324.pgn.7z\n",
      "--\n",
      "Path = ../../data/CCRL-Chess324.pgn.7z\n",
      "Type = 7z\n",
      "Physical Size = 14343506\n",
      "Headers Size = 154\n",
      "Method = PPMD\n",
      "Solid = -\n",
      "Blocks = 1\n",
      "\n",
      "      2% - CCRL-Chess324.[66600].p                                5% - CCRL-Chess324.[66600].p                                8% - CCRL-Chess324.[66600].p                               10% - CCRL-Chess324.[66600].pgn"
     ]
    }
   ],
   "source": [
    "# !7z x ../../data/CCRL-Chess324.pgn.7z"
   ]
  },
  {
   "cell_type": "code",
   "execution_count": 12,
   "id": "fafe169f",
   "metadata": {},
   "outputs": [
    {
     "name": "stdout",
     "output_type": "stream",
     "text": [
      "\u001b[34m==>\u001b[0m \u001b[1mAuto-updating Homebrew...\u001b[0m\n",
      "Adjust how often this is run with HOMEBREW_AUTO_UPDATE_SECS or disable with\n",
      "HOMEBREW_NO_AUTO_UPDATE. Hide these hints with HOMEBREW_NO_ENV_HINTS (see `man brew`).\n",
      "\u001b[34m==>\u001b[0m \u001b[1mAuto-updated Homebrew!\u001b[0m\n",
      "Updated 2 taps (homebrew/core and homebrew/cask).\n",
      "\u001b[34m==>\u001b[0m \u001b[1mNew Formulae\u001b[0m\n",
      "apache-flink@1             fedify                     libpg_query\n",
      "chdig                      ftxui                      mani\n",
      "ente-cli                   github-mcp-server          marmite\n",
      "\u001b[34m==>\u001b[0m \u001b[1mNew Casks\u001b[0m\n",
      "antinote                   excire-foto                ndi-tools\n",
      "companion                  font-adwaita               repo-prompt\n",
      "companion-satellite        font-coral-pixels          vesktop\n",
      "companion@beta             font-epunda-sans           yaak@beta\n",
      "dante-controller           font-epunda-slab\n",
      "dante-via                  ijhttp\n",
      "\n",
      "You have \u001b[1m43\u001b[0m outdated formulae and \u001b[1m1\u001b[0m outdated cask installed.\n",
      "\n",
      "\u001b[34m==>\u001b[0m \u001b[1mDownloading https://ghcr.io/v2/homebrew/core/p7zip/manifests/17.06\u001b[0m\n",
      "######################################################################### 100.0%\n",
      "\u001b[32m==>\u001b[0m \u001b[1mFetching \u001b[32mp7zip\u001b[39m\u001b[0m\n",
      "\u001b[34m==>\u001b[0m \u001b[1mDownloading https://ghcr.io/v2/homebrew/core/p7zip/blobs/sha256:369d3a03a92f\u001b[0m\n",
      "######################################################################### 100.0%\n",
      "\u001b[34m==>\u001b[0m \u001b[1mPouring p7zip--17.06.arm64_sequoia.bottle.tar.gz\u001b[0m\n",
      "🍺  /opt/homebrew/Cellar/p7zip/17.06: 107 files, 9.1MB\n",
      "\u001b[34m==>\u001b[0m \u001b[1mRunning `brew cleanup p7zip`...\u001b[0m\n",
      "Disable this behaviour by setting HOMEBREW_NO_INSTALL_CLEANUP.\n",
      "Hide these hints with HOMEBREW_NO_ENV_HINTS (see `man brew`).\n"
     ]
    }
   ],
   "source": [
    "!brew install p7zip"
   ]
  },
  {
   "cell_type": "code",
   "execution_count": 2,
   "id": "3999f240",
   "metadata": {},
   "outputs": [
    {
     "name": "stdout",
     "output_type": "stream",
     "text": [
      "Collecting numpy\n",
      "  Downloading numpy-2.2.4-cp311-cp311-macosx_14_0_arm64.whl.metadata (62 kB)\n",
      "Downloading numpy-2.2.4-cp311-cp311-macosx_14_0_arm64.whl (5.4 MB)\n",
      "\u001b[2K   \u001b[90m━━━━━━━━━━━━━━━━━━━━━━━━━━━━━━━━━━━━━━━━\u001b[0m \u001b[32m5.4/5.4 MB\u001b[0m \u001b[31m3.5 MB/s\u001b[0m eta \u001b[36m0:00:00\u001b[0ma \u001b[36m0:00:01\u001b[0m\n",
      "\u001b[?25hInstalling collected packages: numpy\n",
      "Successfully installed numpy-2.2.4\n"
     ]
    }
   ],
   "source": [
    "!python -m pip install numpy "
   ]
  },
  {
   "cell_type": "code",
   "execution_count": 16,
   "id": "7f97ecb3",
   "metadata": {},
   "outputs": [
    {
     "name": "stdout",
     "output_type": "stream",
     "text": [
      "100%|██████████████████████████████████████| 1000/1000 [00:08<00:00, 115.01it/s]\n",
      "Bitboards saved to ../../../data/bitboards.npy\n",
      "Labels saved to ../../../data/labels.npy\n"
     ]
    }
   ],
   "source": [
    "!python ./data_reader.py"
   ]
  }
 ],
 "metadata": {
  "kernelspec": {
   "display_name": "ChessEngine",
   "language": "python",
   "name": "python3"
  },
  "language_info": {
   "codemirror_mode": {
    "name": "ipython",
    "version": 3
   },
   "file_extension": ".py",
   "mimetype": "text/x-python",
   "name": "python",
   "nbconvert_exporter": "python",
   "pygments_lexer": "ipython3",
   "version": "3.11.11"
  }
 },
 "nbformat": 4,
 "nbformat_minor": 5
}
